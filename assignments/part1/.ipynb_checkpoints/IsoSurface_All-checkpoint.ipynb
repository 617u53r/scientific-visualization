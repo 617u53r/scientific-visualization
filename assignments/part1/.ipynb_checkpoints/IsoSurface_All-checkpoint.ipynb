{
 "cells": [
  {
   "cell_type": "code",
   "execution_count": 1,
   "metadata": {
    "collapsed": true
   },
   "outputs": [],
   "source": [
    "# Iso-surface rendering of two data sets combined\n",
    "\n",
    "from vtk import *"
   ]
  },
  {
   "cell_type": "code",
   "execution_count": 2,
   "metadata": {
    "collapsed": true
   },
   "outputs": [],
   "source": [
    "# Read the volume\n",
    "reader1 = vtkStructuredPointsReader()\n",
    "reader1.SetFileName(\"hydrogen.vtk\")\n",
    "\n",
    "# reader2 = vtkStructuredPointsReader()\n",
    "# reader2.SetFileName(\"segmented.vtk\")"
   ]
  },
  {
   "cell_type": "code",
   "execution_count": 3,
   "metadata": {
    "collapsed": true
   },
   "outputs": [],
   "source": [
    "# Isosurface\n",
    "isoSurface1 = vtkContourFilter()\n",
    "isoSurface1.SetInputConnection(reader1.GetOutputPort())\n",
    "isoSurface1.SetValue(0,140)\n",
    "\n",
    "surfaceMapper1 = vtkPolyDataMapper()\n",
    "surfaceMapper1.SetInputConnection(isoSurface1.GetOutputPort())\n",
    "surfaceMapper1.ScalarVisibilityOff()\n",
    "\n",
    "surfaceActor1 = vtkActor()\n",
    "surfaceActor1.SetMapper(surfaceMapper1)\n",
    "surfaceActor1.GetProperty().SetColor(0.9, 0.7,0.0)"
   ]
  },
  {
   "cell_type": "code",
   "execution_count": 4,
   "metadata": {
    "collapsed": true
   },
   "outputs": [],
   "source": [
    "# Isosurface\n",
    "# isoSurface2 = vtkContourFilter()\n",
    "# isoSurface2.SetInputConnection(reader2.GetOutputPort())\n",
    "# isoSurface2.SetValue(0,124)\n",
    "\n",
    "# surfaceMapper2 = vtkPolyDataMapper()\n",
    "# surfaceMapper2.SetInputConnection(isoSurface2.GetOutputPort())\n",
    "# surfaceMapper2.ScalarVisibilityOff()\n",
    "\n",
    "# surfaceActor2 = vtkActor()\n",
    "# surfaceActor2.SetMapper(surfaceMapper2)\n",
    "# surfaceActor2.GetProperty().SetColor(0.9, 0.3,0.3)"
   ]
  },
  {
   "cell_type": "code",
   "execution_count": 5,
   "metadata": {
    "collapsed": true
   },
   "outputs": [],
   "source": [
    "# Bounding box.\n",
    "outlineData = vtkOutlineFilter()\n",
    "outlineData.SetInputConnection(reader1.GetOutputPort())\n",
    "outlineMapper = vtkPolyDataMapper()\n",
    "outlineMapper.SetInputConnection(outlineData.GetOutputPort())\n",
    "outline = vtkActor()\n",
    "outline.SetMapper(outlineMapper)\n",
    "outline.GetProperty().SetColor(0.5, 0.5, 0.5)"
   ]
  },
  {
   "cell_type": "code",
   "execution_count": 6,
   "metadata": {
    "collapsed": true
   },
   "outputs": [],
   "source": [
    "# Set a better camera position\n",
    "camera = vtkCamera()\n",
    "camera.SetViewUp(0, 0, -1)\n",
    "camera.SetPosition(-2, -2, -2)"
   ]
  },
  {
   "cell_type": "code",
   "execution_count": 7,
   "metadata": {
    "collapsed": true
   },
   "outputs": [],
   "source": [
    "# Create the Renderer, Window and Interator\n",
    "ren = vtkRenderer()\n",
    "ren.AddActor(outline)\n",
    "ren.AddActor(surfaceActor1)\n",
    "ren.AddActor(surfaceActor2)\n",
    "\n",
    "\n",
    "ren.SetBackground(0.1, 0.1, 0.2)\n",
    "ren.SetActiveCamera(camera)\n",
    "ren.ResetCamera()\n",
    "\n",
    "renWin = vtkRenderWindow()\n",
    "renWin.AddRenderer(ren)\n",
    "renWin.SetWindowName(\"Combination of two data sets\")\n",
    "renWin.SetSize(500, 500);\n",
    "\n",
    "iren = vtkRenderWindowInteractor()\n",
    "iren.SetRenderWindow(renWin)\n",
    "iren.Initialize()\n",
    "iren.Start()"
   ]
  },
  {
   "cell_type": "code",
   "execution_count": null,
   "metadata": {
    "collapsed": true
   },
   "outputs": [],
   "source": []
  },
  {
   "cell_type": "code",
   "execution_count": null,
   "metadata": {
    "collapsed": true
   },
   "outputs": [],
   "source": []
  }
 ],
 "metadata": {
  "anaconda-cloud": {},
  "kernelspec": {
   "display_name": "Python 2",
   "language": "python",
   "name": "python2"
  },
  "language_info": {
   "codemirror_mode": {
    "name": "ipython",
    "version": 2
   },
   "file_extension": ".py",
   "mimetype": "text/x-python",
   "name": "python",
   "nbconvert_exporter": "python",
   "pygments_lexer": "ipython2",
   "version": "2.7.12"
  }
 },
 "nbformat": 4,
 "nbformat_minor": 1
}
