{
 "cells": [
  {
   "cell_type": "code",
   "execution_count": 1,
   "metadata": {
    "collapsed": true
   },
   "outputs": [],
   "source": [
    "# Interaction with an Isosurface visualization\n",
    "# as well as screenshots\n",
    "# Original program written by Erik Vidholm 2004-09-13 and then rewritten by Anders Hast\n",
    "\n",
    "from vtk import *"
   ]
  },
  {
   "cell_type": "code",
   "execution_count": 2,
   "metadata": {
    "collapsed": true
   },
   "outputs": [],
   "source": [
    "# image reader\n",
    "reader = vtkStructuredPointsReader()\n",
    "reader.SetFileName(\"hydrogen.vtk\")"
   ]
  },
  {
   "cell_type": "code",
   "execution_count": 3,
   "metadata": {
    "collapsed": true
   },
   "outputs": [],
   "source": [
    "# create an outline of the dataset\n",
    "outline = vtkOutlineFilter()\n",
    "outline.SetInputConnection(reader.GetOutputPort())\n",
    "\n",
    "outlineMapper = vtkPolyDataMapper()\n",
    "outlineMapper.SetInputConnection(outline.GetOutputPort())\n",
    "\n",
    "outlineActor = vtkActor()\n",
    "outlineActor.SetMapper(outlineMapper)\n",
    "outlineActor.GetProperty().SetColor(0.0,0.0,1.0)\n",
    "outlineActor.GetProperty().SetLineWidth(2.0)"
   ]
  },
  {
   "cell_type": "code",
   "execution_count": 4,
   "metadata": {
    "collapsed": false
   },
   "outputs": [
    {
     "data": {
      "text/plain": [
       "2"
      ]
     },
     "execution_count": 4,
     "metadata": {},
     "output_type": "execute_result"
    }
   ],
   "source": [
    "# color lookup table (an alternative is vtkLookUpTable)\n",
    "lut=vtkColorTransferFunction()\n",
    "lut.AddRGBPoint(0,1,0,0)\n",
    "lut.AddRGBPoint(0.5,1,1,0)\n",
    "lut.AddRGBPoint(1,0,1,0)"
   ]
  },
  {
   "cell_type": "code",
   "execution_count": 5,
   "metadata": {
    "collapsed": true
   },
   "outputs": [],
   "source": [
    "# Define initial iso value \n",
    "isovalue=0.5"
   ]
  },
  {
   "cell_type": "code",
   "execution_count": 6,
   "metadata": {
    "collapsed": true
   },
   "outputs": [],
   "source": [
    "# The contour filter\n",
    "isosurface = vtkContourFilter()\n",
    "isosurface.SetInputConnection(reader.GetOutputPort())\n",
    "isosurface.SetValue(0,isovalue)\n",
    "\n",
    "isosurfaceMapper = vtkPolyDataMapper()\n",
    "isosurfaceMapper.SetLookupTable(lut)\n",
    "isosurfaceMapper.SetScalarRange(0.0, 1.0)\n",
    "isosurfaceMapper.SetInputConnection(isosurface.GetOutputPort())\n",
    "\n",
    "isosurfaceActor = vtkActor()\n",
    "isosurfaceActor.SetMapper(isosurfaceMapper)"
   ]
  },
  {
   "cell_type": "code",
   "execution_count": 7,
   "metadata": {
    "collapsed": true
   },
   "outputs": [],
   "source": [
    "# A colorbar\n",
    "scalarBar = vtkScalarBarActor()\n",
    "scalarBar.SetLookupTable(isosurfaceMapper.GetLookupTable())\n",
    "scalarBar.SetTitle(\"Probability\")\n",
    "scalarBar.GetLabelTextProperty().SetColor(0,0,1)\n",
    "scalarBar.GetTitleTextProperty().SetColor(0,0,1)\n",
    "\n",
    "spc = scalarBar.GetPositionCoordinate()\n",
    "spc.SetCoordinateSystemToNormalizedViewport()\n",
    "spc.SetValue(0.05,0.05)\n",
    "\n",
    "scalarBar.SetWidth(.12)\n",
    "scalarBar.SetHeight(.95)"
   ]
  },
  {
   "cell_type": "code",
   "execution_count": 8,
   "metadata": {
    "collapsed": true
   },
   "outputs": [],
   "source": [
    "# a text actor\n",
    "textActor = vtkTextActor()\n",
    "tp = vtkTextProperty()\n",
    "tp.BoldOn()\n",
    "tp.ShadowOn()\n",
    "tp.ItalicOn()\n",
    "tp.SetColor(1.0,0.2,0.3)\n",
    "tp.SetFontFamilyToArial()\n",
    "tp.SetFontSize(30)\n",
    "textActor.SetTextProperty(tp)\n",
    "\n",
    "tpc = textActor.GetPositionCoordinate()\n",
    "tpc.SetCoordinateSystemToNormalizedViewport()\n",
    "tpc.SetValue(0.75,0.9)\n",
    "\n",
    "#textActor.SetWidth(0.25)\n",
    "#textActor.SetHeight(0.25)\n",
    "textActor.SetInput(str(isovalue))"
   ]
  },
  {
   "cell_type": "code",
   "execution_count": 9,
   "metadata": {
    "collapsed": true
   },
   "outputs": [],
   "source": [
    "# renderer and render window \n",
    "ren = vtkRenderer()\n",
    "ren.SetBackground(.8, .8, .8)\n",
    "\n",
    "renWin = vtkRenderWindow()\n",
    "renWin.SetWindowName(\"Hydrogen Visualization\")\n",
    "\n",
    "renWin.SetSize(500, 500)\n",
    "renWin.AddRenderer(ren)"
   ]
  },
  {
   "cell_type": "code",
   "execution_count": 10,
   "metadata": {
    "collapsed": true
   },
   "outputs": [],
   "source": [
    "# Render window interactor\n",
    "iren = vtkRenderWindowInteractor()\n",
    "iren.SetRenderWindow(renWin)"
   ]
  },
  {
   "cell_type": "code",
   "execution_count": 11,
   "metadata": {
    "collapsed": true
   },
   "outputs": [],
   "source": [
    "# Add the actors\n",
    "ren.AddActor(outlineActor)\n",
    "ren.AddActor(isosurfaceActor)\n",
    "ren.AddActor(scalarBar)\n",
    "ren.AddActor(textActor)\n",
    "#renWin.Render()"
   ]
  },
  {
   "cell_type": "code",
   "execution_count": 12,
   "metadata": {
    "collapsed": true
   },
   "outputs": [],
   "source": [
    "# create window to image filter to get the window to an image\n",
    "w2if = vtkWindowToImageFilter()\n",
    "w2if.SetInput(renWin)"
   ]
  },
  {
   "cell_type": "code",
   "execution_count": 13,
   "metadata": {
    "collapsed": true
   },
   "outputs": [],
   "source": [
    "# create png writer\n",
    "wr = vtkPNGWriter()\n",
    "wr.SetInputConnection(w2if.GetOutputPort())\n",
    "\n",
    "# Python function for the keyboard interface\n",
    "# count is a screenshot counter\n",
    "count = 0\n",
    "def Keypress(obj, event):\n",
    "    global count, isovalue, renWin\n",
    "    key = obj.GetKeySym()\n",
    "    if key == \"s\":\n",
    "        renWin.Render()     \n",
    "        w2if.Modified() # tell the w2if that it should update\n",
    "        fnm = \"screenshot%02d.png\" %(count)\n",
    "        wr.SetFileName(fnm)\n",
    "        wr.Write()\n",
    "        print \"Saved '%s'\" %(fnm)\n",
    "        count = count+1\n",
    "    elif key == \"i\":\n",
    "        isovalue = isovalue + 0.01\n",
    "        isosurface.SetValue(0,isovalue)\n",
    "        textActor.SetInput(\"%4.2f\" %(isovalue))\n",
    "        tp.SetColor(lut.GetColor(isovalue))\n",
    "        renWin.Render()\n",
    "    elif key == \"o\":\n",
    "        isovalue = isovalue - 0.01\n",
    "        isosurface.SetValue(0,isovalue)\n",
    "        textActor.SetInput(\"%4.2f\" %(isovalue))\n",
    "        tp.SetColor(lut.GetColor(isovalue))\n",
    "        renWin.Render()\n",
    "    # add your keyboard interface here\n",
    "    # elif key == ..."
   ]
  },
  {
   "cell_type": "code",
   "execution_count": null,
   "metadata": {
    "collapsed": true
   },
   "outputs": [],
   "source": [
    "# add keyboard interface, initialize, and start the interactor\n",
    "iren.AddObserver(\"KeyPressEvent\", Keypress)\n",
    "iren.Initialize()\n",
    "iren.Start()"
   ]
  }
 ],
 "metadata": {
  "anaconda-cloud": {},
  "kernelspec": {
   "display_name": "Python 2",
   "language": "python",
   "name": "python2"
  },
  "language_info": {
   "codemirror_mode": {
    "name": "ipython",
    "version": 2
   },
   "file_extension": ".py",
   "mimetype": "text/x-python",
   "name": "python",
   "nbconvert_exporter": "python",
   "pygments_lexer": "ipython2",
   "version": "2.7.12"
  }
 },
 "nbformat": 4,
 "nbformat_minor": 1
}
