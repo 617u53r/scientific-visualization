{
 "cells": [
  {
   "cell_type": "code",
   "execution_count": 1,
   "metadata": {
    "collapsed": true
   },
   "outputs": [],
   "source": [
    "import vtk"
   ]
  },
  {
   "cell_type": "code",
   "execution_count": 8,
   "metadata": {
    "collapsed": true
   },
   "outputs": [],
   "source": [
    "# Define a class for the keyboard interface\n",
    "class KeyboardInterface(object):\n",
    "    \"\"\"Keyboard interface.\n",
    "\n",
    "    Provides a simple keyboard interface for interaction. You should\n",
    "    extend this interface with keyboard shortcuts for changing the\n",
    "    isovalue interactively.\n",
    "\n",
    "    \"\"\"\n",
    "\n",
    "    def __init__(self):\n",
    "        self.screenshot_counter = 0\n",
    "        self.render_window = None\n",
    "        self.window2image_filter = None\n",
    "        self.png_writer = None\n",
    "        # Add the extra attributes you need here...\n",
    "\n",
    "    def keypress(self, obj, event):\n",
    "        \"\"\"This function captures keypress events and defines actions for\n",
    "        keyboard shortcuts.\"\"\"\n",
    "        key = obj.GetKeySym()\n",
    "        if key == \"9\":\n",
    "            self.render_window.Render()\n",
    "            self.window2image_filter.Modified()\n",
    "            screenshot_filename = (\"screenshot%02d.png\" %\n",
    "                                   (self.screenshot_counter))\n",
    "            self.png_writer.SetFileName(screenshot_filename)\n",
    "            self.png_writer.Write()\n",
    "            print(\"Saved %s\" % (screenshot_filename))\n",
    "            self.screenshot_counter += 1\n",
    "#         if key == \"(\":\n",
    "#             self.\n",
    "        # Add your keyboard shortcuts here. You can use, e.g., the\n",
    "        # \"Up\" key to increase the isovalue and the \"Down\" key to\n",
    "        # decrease it. Don't forget to call the render window's\n",
    "        # Render() function to update the rendering after you have\n",
    "        # changed the isovalue.\n",
    "        # elif key == ..."
   ]
  },
  {
   "cell_type": "code",
   "execution_count": 9,
   "metadata": {
    "collapsed": false
   },
   "outputs": [
    {
     "name": "stdout",
     "output_type": "stream",
     "text": [
      "Reading volume dataset from hydrogen.vtk ...\n",
      "Done!\n"
     ]
    },
    {
     "ename": "NameError",
     "evalue": "name 'vtkContourFilter' is not defined",
     "output_type": "error",
     "traceback": [
      "\u001b[0;31m---------------------------------------------------------------------------\u001b[0m",
      "\u001b[0;31mNameError\u001b[0m                                 Traceback (most recent call last)",
      "\u001b[0;32m<ipython-input-9-20de88184cb0>\u001b[0m in \u001b[0;36m<module>\u001b[0;34m()\u001b[0m\n\u001b[1;32m     10\u001b[0m \u001b[0;31m############\u001b[0m\u001b[0;34m\u001b[0m\u001b[0;34m\u001b[0m\u001b[0m\n\u001b[1;32m     11\u001b[0m \u001b[0;34m\u001b[0m\u001b[0m\n\u001b[0;32m---> 12\u001b[0;31m \u001b[0misoSurface\u001b[0m \u001b[0;34m=\u001b[0m \u001b[0mvtkContourFilter\u001b[0m\u001b[0;34m(\u001b[0m\u001b[0;34m)\u001b[0m\u001b[0;34m\u001b[0m\u001b[0m\n\u001b[0m\u001b[1;32m     13\u001b[0m \u001b[0misoSurface\u001b[0m\u001b[0;34m.\u001b[0m\u001b[0mSetInputConnection\u001b[0m\u001b[0;34m(\u001b[0m\u001b[0mreader\u001b[0m\u001b[0;34m.\u001b[0m\u001b[0mGetOutputPort\u001b[0m\u001b[0;34m(\u001b[0m\u001b[0;34m)\u001b[0m\u001b[0;34m)\u001b[0m\u001b[0;34m\u001b[0m\u001b[0m\n\u001b[1;32m     14\u001b[0m \u001b[0misoSurface\u001b[0m\u001b[0;34m.\u001b[0m\u001b[0mSetValue\u001b[0m\u001b[0;34m(\u001b[0m\u001b[0;36m0\u001b[0m\u001b[0;34m,\u001b[0m \u001b[0;36m160\u001b[0m\u001b[0;34m)\u001b[0m\u001b[0;34m\u001b[0m\u001b[0m\n",
      "\u001b[0;31mNameError\u001b[0m: name 'vtkContourFilter' is not defined"
     ]
    }
   ],
   "source": [
    "# Read the volume dataset\n",
    "filename = \"hydrogen.vtk\"\n",
    "reader = vtk.vtkStructuredPointsReader()\n",
    "reader.SetFileName(filename)\n",
    "print(\"Reading volume dataset from \" + filename + \" ...\")\n",
    "reader.Update()  # executes the reader\n",
    "print(\"Done!\")\n",
    "\n",
    "\n",
    "############\n",
    "\n",
    "isoSurface = vtkContourFilter()\n",
    "isoSurface.SetInputConnection(reader.GetOutputPort())\n",
    "isoSurface.SetValue(0, 160)"
   ]
  },
  {
   "cell_type": "code",
   "execution_count": 4,
   "metadata": {
    "collapsed": false
   },
   "outputs": [
    {
     "name": "stdout",
     "output_type": "stream",
     "text": [
      "Dimensions: 64 64 64\n"
     ]
    }
   ],
   "source": [
    "# Just for illustration, extract and print the dimensions of the\n",
    "# volume. The string formatting used here is similar to the sprintf\n",
    "# style in C.\n",
    "width, height, depth = reader.GetOutput().GetDimensions()\n",
    "print(\"Dimensions: %i %i %i\" % (width, height, depth))"
   ]
  },
  {
   "cell_type": "code",
   "execution_count": 5,
   "metadata": {
    "collapsed": false
   },
   "outputs": [],
   "source": [
    "# Create an outline of the volume\n",
    "outline = vtk.vtkOutlineFilter()\n",
    "outline.SetInputConnection(reader.GetOutputPort())\n",
    "outline_mapper = vtk.vtkPolyDataMapper()\n",
    "outline_mapper.SetInputConnection(outline.GetOutputPort())\n",
    "outline_actor = vtk.vtkActor()\n",
    "outline_actor.SetMapper(outline_mapper)"
   ]
  },
  {
   "cell_type": "code",
   "execution_count": 6,
   "metadata": {
    "collapsed": false
   },
   "outputs": [
    {
     "data": {
      "text/plain": [
       "25"
      ]
     },
     "execution_count": 6,
     "metadata": {},
     "output_type": "execute_result"
    }
   ],
   "source": [
    "# Define actor properties (color, shading, line width, etc)\n",
    "outline_actor.GetProperty().SetColor(0.8, 0.8, 0.8)\n",
    "outline_actor.GetProperty().SetLineWidth(2.0)\n",
    "\n",
    "#\n",
    "#\n",
    "# Add your isosurface extraction and colormapping code here...\n",
    "#\n",
    "#\n",
    "\n",
    "# Create a renderer and add the actors to it\n",
    "renderer = vtk.vtkRenderer()\n",
    "renderer.SetBackground(0.2, 0.2, 0.2)\n",
    "renderer.AddActor(outline_actor)\n",
    "# renderer.AddActor(...)\n",
    "\n",
    "# Create a render window\n",
    "render_window = vtk.vtkRenderWindow()\n",
    "render_window.SetWindowName(\"Isosurface extraction\")\n",
    "render_window.SetSize(500, 500)\n",
    "render_window.AddRenderer(renderer)\n",
    "\n",
    "# Create an interactor\n",
    "interactor = vtk.vtkRenderWindowInteractor()\n",
    "interactor.SetRenderWindow(render_window)\n",
    "\n",
    "# Create a window-to-image filter and a PNG writer that can be used\n",
    "# for taking screenshots\n",
    "window2image_filter = vtk.vtkWindowToImageFilter()\n",
    "window2image_filter.SetInput(render_window)\n",
    "png_writer = vtk.vtkPNGWriter()\n",
    "png_writer.SetInputConnection(window2image_filter.GetOutputPort())\n",
    "\n",
    "# Set up the keyboard interface\n",
    "keyboard_interface = KeyboardInterface()\n",
    "keyboard_interface.render_window = render_window\n",
    "keyboard_interface.window2image_filter = window2image_filter\n",
    "keyboard_interface.png_writer = png_writer\n",
    "\n",
    "# Connect the keyboard interface to the interactor\n",
    "interactor.AddObserver(\"KeyPressEvent\", keyboard_interface.keypress)"
   ]
  },
  {
   "cell_type": "code",
   "execution_count": 7,
   "metadata": {
    "collapsed": true
   },
   "outputs": [],
   "source": [
    "# Initialize the interactor and start the rendering loop\n",
    "interactor.Initialize()\n",
    "render_window.Render()\n",
    "interactor.Start()"
   ]
  },
  {
   "cell_type": "code",
   "execution_count": null,
   "metadata": {
    "collapsed": true
   },
   "outputs": [],
   "source": []
  }
 ],
 "metadata": {
  "anaconda-cloud": {},
  "kernelspec": {
   "display_name": "Python 2",
   "language": "python",
   "name": "python2"
  },
  "language_info": {
   "codemirror_mode": {
    "name": "ipython",
    "version": 2
   },
   "file_extension": ".py",
   "mimetype": "text/x-python",
   "name": "python",
   "nbconvert_exporter": "python",
   "pygments_lexer": "ipython2",
   "version": "2.7.12"
  }
 },
 "nbformat": 4,
 "nbformat_minor": 1
}
