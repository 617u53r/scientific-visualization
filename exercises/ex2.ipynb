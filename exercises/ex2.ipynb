{
 "cells": [
  {
   "cell_type": "code",
   "execution_count": 1,
   "metadata": {
    "collapsed": true
   },
   "outputs": [],
   "source": [
    "# Visualizing vector data from Matlab\n",
    "# One file \"data1.txt\" contains the position and the other \"data2.txt\" contains a vector\n",
    "\n",
    "import sys\n",
    "from vtk import *\n",
    "\n",
    "# This import style makes it possible to write just readPoints(9 in the call instead of using the whole name: Readpoints.readPoints()\n",
    "from ReadPoints import *"
   ]
  },
  {
   "cell_type": "code",
   "execution_count": 2,
   "metadata": {
    "collapsed": false
   },
   "outputs": [
    {
     "data": {
      "text/plain": [
       "1"
      ]
     },
     "execution_count": 2,
     "metadata": {},
     "output_type": "execute_result"
    }
   ],
   "source": [
    "# Read the data into a vtkPolyData using the functions in ReadPoints.py\n",
    "data=vtkUnstructuredGrid()\n",
    "\n",
    "# Read arguments\n",
    "data.SetPoints(readPoints(\"data1.txt\"))\n",
    "data.GetPointData().SetVectors(readVectors(\"data2.txt\"))\n",
    "data.GetPointData().SetScalars(readScalars(\"data3.txt\")) "
   ]
  },
  {
   "cell_type": "code",
   "execution_count": 3,
   "metadata": {
    "collapsed": false
   },
   "outputs": [],
   "source": [
    "# Put spheres at each point in the dataset.\n",
    "ball = vtkSphereSource()\n",
    "ball.SetRadius(0.05)\n",
    "ball.SetThetaResolution(12)\n",
    "ball.SetPhiResolution(12)\n",
    "\n",
    "ballGlyph = vtkGlyph3D()\n",
    "ballGlyph.SetInput(data)\n",
    "ballGlyph.SetSource(ball.GetOutput())\n",
    "\n",
    "#ballGlyph.SetScaleModeToScaleByScalar()\n",
    "#ballGlyph.SetScaleModeToDataScalingOff()\n",
    "#ballGlyph.SetColorModeToColorByScalar()\n",
    "\n",
    "ballMapper = vtkPolyDataMapper()\n",
    "ballMapper.SetInputConnection(ballGlyph.GetOutputPort())\n",
    "\n",
    "ballActor = vtkActor()\n",
    "ballActor.SetMapper(ballMapper)\n",
    "ballActor.GetProperty().SetColor(0.8,0.4,0.4)\n",
    "\n",
    "#Put an arrow (vector) at each ball\n",
    "arrow = vtkArrowSource()\n",
    "arrow.SetTipRadius(0.2)\n",
    "arrow.SetShaftRadius(0.075)\n",
    "\n",
    "arrowGlyph = vtkGlyph3D()\n",
    "arrowGlyph.SetInput(data)\n",
    "arrowGlyph.SetSource(arrow.GetOutput())\n",
    "arrowGlyph.SetScaleFactor(0.2)\n",
    "\n",
    "arrowMapper = vtkPolyDataMapper()\n",
    "arrowMapper.SetInputConnection(arrowGlyph.GetOutputPort())\n",
    "\n",
    "arrowActor = vtkActor()\n",
    "arrowActor.SetMapper(arrowMapper)\n",
    "arrowActor.GetProperty().SetColor(0.9,0.9,0.1)"
   ]
  },
  {
   "cell_type": "code",
   "execution_count": 4,
   "metadata": {
    "collapsed": false
   },
   "outputs": [],
   "source": [
    "# Create the RenderWindow, Renderer and Interator\n",
    "ren = vtkRenderer()\n",
    "ren.AddActor(ballActor)\n",
    "ren.AddActor(arrowActor)\n",
    "ren.SetBackground(0.4, 0.4, 0.6)\n",
    "\n",
    "renWin = vtkRenderWindow()\n",
    "renWin.AddRenderer(ren)\n",
    "renWin.SetWindowName(\"Balls and Arrows\")\n",
    "renWin.SetSize(500,500)\n",
    "\n",
    "iren = vtkRenderWindowInteractor()\n",
    "iren.SetRenderWindow(renWin)\n",
    "iren.Initialize()\n",
    "iren.Start()"
   ]
  },
  {
   "cell_type": "code",
   "execution_count": null,
   "metadata": {
    "collapsed": true
   },
   "outputs": [],
   "source": []
  }
 ],
 "metadata": {
  "anaconda-cloud": {},
  "kernelspec": {
   "display_name": "Python 2",
   "language": "python",
   "name": "python2"
  },
  "language_info": {
   "codemirror_mode": {
    "name": "ipython",
    "version": 2
   },
   "file_extension": ".py",
   "mimetype": "text/x-python",
   "name": "python",
   "nbconvert_exporter": "python",
   "pygments_lexer": "ipython2",
   "version": "2.7.12"
  }
 },
 "nbformat": 4,
 "nbformat_minor": 1
}
